{
 "cells": [
  {
   "cell_type": "markdown",
   "metadata": {},
   "source": [
    "# Задание 7"
   ]
  },
  {
   "cell_type": "markdown",
   "metadata": {},
   "source": [
    "## 1. PropertyCreator (0.2 балла)\n",
    "\n",
    "Напишите мета класс для создания свойств (property) класса из функций начинающихся с \"set\\_\", \"get\\_\" или \"del_\". Пример использования:\n",
    "<code>\n",
    "class TestPropertyCreator(metaclass=PropertyCreator):\n",
    "    def \\__init\\__(self, lo):\n",
    "        self.__x = None\n",
    "        self.lo = lo\n",
    "\n",
    "    def get_x(self):\n",
    "        return self.__x\n",
    "\n",
    "    def set_x(self, value):\n",
    "        if value < self.lo:\n",
    "            raise ValueError(\"Value must in condition: {} <= value\".format(self.lo))\n",
    "        self.__x = value\n",
    "    \n",
    "    def del_x(self):\n",
    "        self.__x = \"No more\"\n",
    "\n",
    "    pass\n",
    "\n",
    "\n",
    "obj = TestPropertyCreator(5)\n",
    "obj.x = 4\n",
    "print(obj.x)\n",
    "del (obj.x)\n",
    "</code>\n",
    "\n",
    "* Мета класс должен поддерживать наследование, в смысле создавать свойства у потомков.\n",
    "* Должен поддерживать частичное описание свойств, т. е. например, описание одного метода get_val (без set_val и del_val).\n",
    "* Поддерживать множественное использование одного свойства с одним именем в разных классах:\n",
    "\n",
    "<code>\n",
    "class A(metaclass=PropertyCreator):\n",
    "    def get_x(self):\n",
    "        return \"x in class A\"\n",
    "\n",
    "class B(metaclass=PropertyCreator):\n",
    "    def get_x(self):\n",
    "        return \"x in class B\"\n",
    "\n",
    "class C(metaclass=PropertyCreator):\n",
    "    def set_x(self, value):\n",
    "        self.value = \"x in class C\"\n",
    "    def get_x(self):\n",
    "        return self.value\n",
    "</code>\n",
    "* Должен уметь обрабатывать имен с несколькими подчеркиваниями \"get_raw_text\"."
   ]
  },
  {
   "cell_type": "markdown",
   "metadata": {},
   "source": [
    "#### Решение"
   ]
  },
  {
   "cell_type": "code",
   "execution_count": 1,
   "metadata": {},
   "outputs": [],
   "source": [
    "class PropertyCreator(type):\n",
    "    def __new__(mcs, name, bases, attrs):\n",
    "        properties = {}\n",
    "\n",
    "        storage = type('storage', (), {'__getattr__': lambda self, attr: None})\n",
    "\n",
    "        for key, value in attrs.items():\n",
    "            if len(key) > 4 and key.startswith(('get_', 'set_', 'del_')):\n",
    "                current_name = key[4:]\n",
    "                if current_name not in properties:\n",
    "                    properties[current_name] = storage()\n",
    "                if key.startswith('get_'):\n",
    "                    properties[current_name].getter = value\n",
    "                elif key.startswith('set_'):\n",
    "                    properties[current_name].setter = value\n",
    "                elif key.startswith('del_'):\n",
    "                    properties[current_name].deleter = value\n",
    "\n",
    "        new_attrs = {key: property(value.getter, value.setter, value.deleter)\n",
    "                     for key, value in properties.items()}\n",
    "        return type.__new__(mcs, name, bases, dict(**attrs, **new_attrs))"
   ]
  },
  {
   "cell_type": "markdown",
   "metadata": {},
   "source": [
    "#### Протестируйте свое решение"
   ]
  },
  {
   "cell_type": "code",
   "execution_count": 2,
   "metadata": {},
   "outputs": [
    {
     "name": "stdout",
     "output_type": "stream",
     "text": [
      "test_simple passed!\n",
      "test_with_inheritance passed!\n",
      "test_partially_defined passed!\n",
      "test_sanity passed!\n",
      "test_multiple_usages passed!\n"
     ]
    }
   ],
   "source": [
    "def test_simple():\n",
    "    class TestPropertyCreator(metaclass=PropertyCreator):\n",
    "        def __init__(self, lo):\n",
    "            self.__x = None\n",
    "            self.lo = lo\n",
    "\n",
    "        def get_x(self):\n",
    "            return self.__x\n",
    "\n",
    "        def set_x(self, value):\n",
    "            if value < self.lo:\n",
    "                raise ValueError(\n",
    "                    \"Value must in condition: {} <= value\".format(self.lo))\n",
    "            self.__x = value\n",
    "\n",
    "        def del_x(self):\n",
    "            self.__x = \"No more\"\n",
    "\n",
    "    obj = TestPropertyCreator(42)\n",
    "    assert obj.x is None\n",
    "\n",
    "    obj.x = 100\n",
    "    assert obj.x == 100\n",
    "\n",
    "    try:\n",
    "        obj.x = 5\n",
    "        assert False\n",
    "    except ValueError:\n",
    "        pass\n",
    "\n",
    "    del obj.x\n",
    "    assert obj.x == 'No more'\n",
    "\n",
    "    print('test_simple passed!')\n",
    "\n",
    "\n",
    "def test_with_inheritance():\n",
    "    class TestPropertyCreator(metaclass=PropertyCreator):\n",
    "        pass\n",
    "\n",
    "    class TestPropertyCreatorInheritance(TestPropertyCreator):\n",
    "        def __init__(self):\n",
    "            self._secret_list = []\n",
    "\n",
    "        def get_x(self):\n",
    "            self._secret_list.append(\"get\")\n",
    "            return 0\n",
    "\n",
    "        def set_x(self, value):\n",
    "            self._secret_list.append(\"set\")\n",
    "\n",
    "    obj = TestPropertyCreatorInheritance()\n",
    "    assert obj.x == 0\n",
    "    assert obj._secret_list == ['get']\n",
    "\n",
    "    obj.x = 5\n",
    "    assert obj._secret_list == ['get', 'set']\n",
    "\n",
    "    assert obj.x == 0\n",
    "    assert obj._secret_list == ['get', 'set', 'get']\n",
    "\n",
    "    print('test_with_inheritance passed!')\n",
    "\n",
    "\n",
    "def test_partially_defined():\n",
    "    class TestPropertyCreator(metaclass=PropertyCreator):\n",
    "        def __init__(self):\n",
    "            self._secret_list = []\n",
    "\n",
    "        def get_x(self):\n",
    "            self._secret_list.append(\"get\")\n",
    "            return 0\n",
    "\n",
    "        def set_y(self, value):\n",
    "            self._secret_list.append(\"set\")\n",
    "            self._y = value\n",
    "\n",
    "    obj = TestPropertyCreator()\n",
    "    assert obj.x == 0\n",
    "\n",
    "    try:\n",
    "        obj.x = 5\n",
    "        assert False\n",
    "    except AttributeError:\n",
    "        pass\n",
    "    assert obj._secret_list == ['get']\n",
    "\n",
    "    try:\n",
    "        var = obj.y\n",
    "        assert False\n",
    "    except AttributeError:\n",
    "        pass\n",
    "\n",
    "    obj.y = 45\n",
    "    assert obj._secret_list == ['get', 'set']\n",
    "    assert obj._y == 45\n",
    "\n",
    "    print('test_partially_defined passed!')\n",
    "\n",
    "\n",
    "def test_sanity():\n",
    "    class TestPropertyCreator(metaclass=PropertyCreator):\n",
    "        _text = 0\n",
    "\n",
    "        def get_raw_text(self):\n",
    "            return self._boo\n",
    "\n",
    "        def get_text(self):\n",
    "            return self._text % 2\n",
    "\n",
    "        def set_text(self, value):\n",
    "            try:\n",
    "                self._text = int(value)\n",
    "            except ValueError:\n",
    "                raise TypeError(\"unproper value for text: {}\".format(value))\n",
    "\n",
    "    obj = TestPropertyCreator()\n",
    "    obj._boo = 'BOO!!!'\n",
    "    assert obj.raw_text == 'BOO!!!'\n",
    "\n",
    "    try:\n",
    "        obj.text = 'five'\n",
    "        assert False\n",
    "    except TypeError:\n",
    "        pass\n",
    "\n",
    "    obj.text = '5'\n",
    "    assert obj.text == 1\n",
    "    assert obj._text == 5\n",
    "\n",
    "    print('test_sanity passed!')\n",
    "\n",
    "\n",
    "def test_multiple_usages():\n",
    "    class TestPropertyCreatorA(metaclass=PropertyCreator):\n",
    "        def get_x(self):\n",
    "            return 0\n",
    "\n",
    "    class TestPropertyCreatorB(metaclass=PropertyCreator):\n",
    "        def get_x(self):\n",
    "            return 1\n",
    "\n",
    "    class TestPropertyCreatorC(metaclass=PropertyCreator):\n",
    "        def set_x(self, value):\n",
    "            self.value = value + 1\n",
    "\n",
    "        def get_x(self):\n",
    "            return self.value\n",
    "\n",
    "    a = TestPropertyCreatorA()\n",
    "    b = TestPropertyCreatorB()\n",
    "    c = TestPropertyCreatorC()\n",
    "\n",
    "    try:\n",
    "        a.x = 5\n",
    "        assert False\n",
    "    except AttributeError:\n",
    "        pass\n",
    "\n",
    "    try:\n",
    "        b.x = 7\n",
    "        assert False\n",
    "    except AttributeError:\n",
    "        pass\n",
    "\n",
    "    c.x = 9\n",
    "    assert c.x == 10\n",
    "    assert b.x == 1\n",
    "    assert a.x == 0\n",
    "\n",
    "    print('test_multiple_usages passed!')\n",
    "\n",
    "\n",
    "test_simple()\n",
    "test_with_inheritance()\n",
    "test_partially_defined()\n",
    "test_sanity()\n",
    "test_multiple_usages()"
   ]
  },
  {
   "cell_type": "markdown",
   "metadata": {},
   "source": [
    "## 2. InstanceCountExeptioner (0.2 балла)\n",
    "Напишите метакласс InstanceCountExeptioner, который будет следить за количеством экземпляров класса, использующих его. Количество задается через поле класса \\_\\_max_instane\\_count\\_\\_. Т. е. число экземпляров каждого класса регулируется отдельно. Если в классе не указано поле \\_\\_max_instane\\_count\\_\\_, то используйте заранее заданное число в метаклассе (любое). Пример:\n",
    "\n",
    "<code>\n",
    "class TestInstanceCountExeptionerA(metaclass=InstanceCountExeptioner):\n",
    "    \\_\\_max_instane\\_count\\_\\_ = 2\n",
    "    def \\__init\\__(self, a):\n",
    "        self.a = a\n",
    "\n",
    "\n",
    "class TestInstanceCountExeptionerB(metaclass=InstanceCountExeptioner):\n",
    "    \\_\\_max_instane\\_count\\_\\_ = 1\n",
    "    def \\__init\\__(self, a):\n",
    "        self.a = a\n",
    "\n",
    "a_one = TestInstanceCountExeptionerA('one')\n",
    "a_two = TestInstanceCountExeptionerA('two')\n",
    "b_one = TestInstanceCountExeptionerB('one')\n",
    "\\# пока всё шло хорошо\n",
    "\n",
    "\\# а вот\n",
    "a_three = TestInstanceCountExeptionerA('three')\n",
    "\\# выкенет исключение InstanceCountExeption (ваше собственное исключение)\n",
    "</code>"
   ]
  },
  {
   "cell_type": "markdown",
   "metadata": {},
   "source": [
    "#### Решение"
   ]
  },
  {
   "cell_type": "code",
   "execution_count": 3,
   "metadata": {},
   "outputs": [],
   "source": [
    "class InstanceCountException(Exception):\n",
    "    def __init__(self, msg=''):\n",
    "        self.msg = msg\n",
    "\n",
    "    def __str__(self):\n",
    "        return str(self.msg)\n",
    "\n",
    "    def __repr__(self):\n",
    "        return f'InstanceCountException({repr(self.msg)})'"
   ]
  },
  {
   "cell_type": "code",
   "execution_count": 4,
   "metadata": {},
   "outputs": [],
   "source": [
    "_MAX_INSTANCE_COUNT = '__max_instance_count__'\n",
    "_INSTANCE_COUNT = '__instance_count__'\n",
    "\n",
    "\n",
    "class InstanceCountExceptioner(type):\n",
    "    _default__max_instance_count__ = 1\n",
    "\n",
    "    def __new__(mcs, name, bases, attrs):\n",
    "        new_attrs = {_INSTANCE_COUNT: 0}\n",
    "        if _MAX_INSTANCE_COUNT not in attrs:\n",
    "            new_attrs[_MAX_INSTANCE_COUNT] = mcs._default__max_instance_count__\n",
    "\n",
    "        return type.__new__(mcs, name, bases, dict(**attrs, **new_attrs))\n",
    "\n",
    "    def __call__(cls, *args, **kwargs):\n",
    "        cnt = getattr(cls, _INSTANCE_COUNT)\n",
    "        if cnt >= getattr(cls, _MAX_INSTANCE_COUNT):\n",
    "            raise InstanceCountException(\n",
    "                'Too many instances of {}'.format(cls.__name__))\n",
    "        setattr(cls, _INSTANCE_COUNT, cnt + 1)\n",
    "        return type.__call__(cls, *args, **kwargs)"
   ]
  },
  {
   "cell_type": "markdown",
   "metadata": {},
   "source": [
    "#### Протестируйте свое решение"
   ]
  },
  {
   "cell_type": "code",
   "execution_count": 6,
   "metadata": {},
   "outputs": [
    {
     "name": "stdout",
     "output_type": "stream",
     "text": [
      "test_simple passed!\n",
      "test_create passed!\n",
      "test_fail_create_a passed!\n",
      "test_fail_create_b passed!\n",
      "test_fail_create_default_value passed!\n"
     ]
    }
   ],
   "source": [
    "class TestInstanceCountExceptionerA(metaclass=InstanceCountExceptioner):\n",
    "    __max_instance_count__ = 2\n",
    "\n",
    "    def __init__(self):\n",
    "        self.a = 1\n",
    "\n",
    "    def get(self):\n",
    "        return self.a\n",
    "\n",
    "\n",
    "class TestInstanceCountExceptionerB(metaclass=InstanceCountExceptioner):\n",
    "    __max_instance_count__ = 3\n",
    "\n",
    "    def __init__(self):\n",
    "        self.b = 2\n",
    "\n",
    "    def get(self):\n",
    "        return self.b\n",
    "\n",
    "\n",
    "class TestInstanceCountExceptionerDefaultValue(\n",
    "    metaclass=InstanceCountExceptioner):\n",
    "    def __init__(self):\n",
    "        self.a = 3\n",
    "\n",
    "    def get(self):\n",
    "        return self.a\n",
    "\n",
    "\n",
    "def test_simple():\n",
    "    a = TestInstanceCountExceptionerA()\n",
    "    b = TestInstanceCountExceptionerB()\n",
    "    c = TestInstanceCountExceptionerDefaultValue()\n",
    "\n",
    "    assert a.get() == 1 == a.a\n",
    "    assert b.get() == 2 == b.b\n",
    "    assert c.get() == 3 == c.a\n",
    "\n",
    "    print('test_simple passed!')\n",
    "\n",
    "\n",
    "def test_create():\n",
    "    a2 = TestInstanceCountExceptionerA()\n",
    "    b2 = TestInstanceCountExceptionerB()\n",
    "\n",
    "    b3 = TestInstanceCountExceptionerB()\n",
    "\n",
    "    b2.b = 20\n",
    "    b3.b = 200\n",
    "\n",
    "    assert b2.b == 20\n",
    "    assert b3.b == 200\n",
    "\n",
    "    print('test_create passed!')\n",
    "\n",
    "\n",
    "def test_fail_create_a():\n",
    "    try:\n",
    "        TestInstanceCountExceptionerA()\n",
    "        assert False\n",
    "    except InstanceCountException:\n",
    "        pass\n",
    "\n",
    "    print('test_fail_create_a passed!')\n",
    "\n",
    "\n",
    "def test_fail_create_b():\n",
    "    try:\n",
    "        TestInstanceCountExceptionerB()\n",
    "        assert False\n",
    "    except InstanceCountException:\n",
    "        pass\n",
    "\n",
    "    print('test_fail_create_b passed!')\n",
    "\n",
    "\n",
    "def test_fail_create_default_value():\n",
    "    try:\n",
    "        TestInstanceCountExceptionerDefaultValue()\n",
    "        assert False\n",
    "    except InstanceCountException:\n",
    "        pass\n",
    "\n",
    "    print('test_fail_create_default_value passed!')\n",
    "\n",
    "\n",
    "test_simple()\n",
    "test_create()\n",
    "test_fail_create_a()\n",
    "test_fail_create_b()\n",
    "test_fail_create_default_value()"
   ]
  },
  {
   "cell_type": "markdown",
   "metadata": {},
   "source": [
    "## 3. JSONClassCreator (0.6 баллов)\n",
    "Напишите метакласс, который будет по json представлению строить новый класс и обратно. Класс должен уметь следующее:\n",
    "* Поддерживать сохранение и получение магических функций класса.\n",
    "* Поддерживать сохранение и получение обычных функций.\n",
    "* Поддерживать сохранение полей со стандартными типами.\n",
    "* Уберите из сохранения следующие поля и методы: ['\\_\\_dict\\_\\_', '\\_\\_weakref\\_\\_', '\\_\\_module\\_\\_', '\\_\\_init\\_\\_']\n",
    "* У создаваемого класса должна быть функция to_json_str\n",
    "\n",
    "Формат json строки должен быть следующий:\n",
    "\n",
    "<code>\n",
    "{\n",
    "    \"name\": название класса,\n",
    "    \"bases\": базовые классы,\n",
    "    \"methods\": методы класса,\n",
    "    \"attrs\": поля класса\n",
    "}\n",
    "</code>\n",
    "\n",
    "Рекомендации:\n",
    "* Для получения кода функций используйте модуль <a href=\"http://python-lab.ru/documentation/27/stdlib/inspect.html\">inspect</a>.\n",
    "* Для того, чтобы запустить код функций, можно использовать exec.\n",
    "* Можно не исправлять ошибку типа OSError: could not get source code - возникает для функций, полученных с помощью exec."
   ]
  },
  {
   "cell_type": "markdown",
   "metadata": {},
   "source": [
    "#### Пример использования"
   ]
  },
  {
   "cell_type": "code",
   "execution_count": 2,
   "metadata": {},
   "outputs": [],
   "source": [
    "import json\n",
    "\n",
    "\n",
    "class ParentTest1(object):\n",
    "    pass\n",
    "\n",
    "class ParentTest2(object):\n",
    "    pass\n",
    "\n",
    "class Test(ParentTest1, ParentTest2):\n",
    "    \"\"\"Тестовый класс\"\"\"\n",
    "\n",
    "    val = [1, 2, 3]\n",
    "\n",
    "    def f(self, x):\n",
    "        print(x)\n",
    "    \n",
    "    def __repr__(self):\n",
    "        return \"Test(val={})\".format(self.val)\n",
    "\n",
    "    def __str__(self):\n",
    "        return \"Test(val={})\".format(self.val)\n",
    "\n",
    "    pass"
   ]
  },
  {
   "cell_type": "code",
   "execution_count": 5,
   "metadata": {},
   "outputs": [
    {
     "name": "stdout",
     "output_type": "stream",
     "text": [
      "('name', 'Test')\n",
      "('bases', ['ParentTest1', 'ParentTest2'])\n",
      "('methods', {'f': 'def f(self, x):\\n        print(x)', '__repr__': 'def __repr__(self):\\n        return \"Test(val={})\".format(self.val)', '__str__': 'def __str__(self):\\n        return \"Test(val={})\".format(self.val)'})\n",
      "('attrs', {'__doc__': 'Тестовый класс', 'val': [1, 2, 3]})\n"
     ]
    }
   ],
   "source": [
    "print(*json.loads(JSONClassCreator.to_json_str(Test)).items(), sep=\"\\n\")"
   ]
  },
  {
   "cell_type": "code",
   "execution_count": 6,
   "metadata": {
    "collapsed": true
   },
   "outputs": [],
   "source": [
    "tmp = JSONClassCreator(JSONClassCreator.to_json_str(Test))"
   ]
  },
  {
   "cell_type": "code",
   "execution_count": 7,
   "metadata": {},
   "outputs": [
    {
     "name": "stdout",
     "output_type": "stream",
     "text": [
      "hi\n"
     ]
    },
    {
     "data": {
      "text/plain": [
       "(Test(val=[1, 2, 3]), None, [1, 2, 3], 'Тестовый класс')"
      ]
     },
     "execution_count": 7,
     "metadata": {},
     "output_type": "execute_result"
    }
   ],
   "source": [
    "tmp_obj = tmp()\n",
    "tmp_obj, tmp_obj.f(\"hi\"), tmp.val, tmp.__doc__"
   ]
  },
  {
   "cell_type": "code",
   "execution_count": 10,
   "metadata": {},
   "outputs": [
    {
     "data": {
      "text/plain": [
       "mappingproxy({'__doc__': 'Тестовый класс',\n",
       "              '__module__': '__main__',\n",
       "              '__repr__': <function __main__.__repr__>,\n",
       "              '__str__': <function __main__.__str__>,\n",
       "              'f': <function __main__.f>,\n",
       "              'to_json_str': <function __main__.JSONClassCreator.to_json_str>,\n",
       "              'val': [1, 2, 3]})"
      ]
     },
     "execution_count": 10,
     "metadata": {},
     "output_type": "execute_result"
    }
   ],
   "source": [
    "tmp.__dict__"
   ]
  },
  {
   "cell_type": "markdown",
   "metadata": {},
   "source": [
    "#### Решение"
   ]
  },
  {
   "cell_type": "code",
   "execution_count": null,
   "metadata": {
    "collapsed": true
   },
   "outputs": [],
   "source": [
    "import inspect\n",
    "\n",
    "\n",
    "class JSONClassCreator(type):\n",
    "    def __new__(mcls, json_str):\n",
    "        <your code here>\n",
    "\n",
    "    def to_json_str(cls):\n",
    "        exclude = ['__dict__', '__weakref__', '__module__', '__init__']\n",
    "        <your code here>\n",
    "\n",
    "        return json.dumps({\n",
    "            \"name\": <your code here>,\n",
    "            \"bases\": <your code here>,\n",
    "            \"methods\": <your code here>,\n",
    "            \"attrs\": <your code here>\n",
    "        })\n",
    "\n",
    "    pass\n"
   ]
  },
  {
   "cell_type": "markdown",
   "metadata": {},
   "source": [
    "#### Проверьте свое решение на примере"
   ]
  },
  {
   "cell_type": "code",
   "execution_count": null,
   "metadata": {
    "collapsed": true
   },
   "outputs": [],
   "source": []
  }
 ],
 "metadata": {
  "kernelspec": {
   "display_name": "Python 3",
   "language": "python",
   "name": "python3"
  },
  "language_info": {
   "codemirror_mode": {
    "name": "ipython",
    "version": 3
   },
   "file_extension": ".py",
   "mimetype": "text/x-python",
   "name": "python",
   "nbconvert_exporter": "python",
   "pygments_lexer": "ipython3",
   "version": "3.7.0"
  }
 },
 "nbformat": 4,
 "nbformat_minor": 2
}
