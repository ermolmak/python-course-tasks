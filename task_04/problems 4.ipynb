{
 "cells": [
  {
   "cell_type": "markdown",
   "metadata": {},
   "source": [
    "# Задание 4"
   ]
  },
  {
   "cell_type": "markdown",
   "metadata": {},
   "source": [
    "## 1. Декоратор @cached (0.3 балла)"
   ]
  },
  {
   "cell_type": "markdown",
   "metadata": {},
   "source": [
    "#### Реализуйте класс для хранения результатов выполнения функции\n",
    "\n",
    "* max_count - максимальное число хранимых результатов. Если число результатов превышает max_count, требуется выбросить первый результат, т. е. в кеше должно храниться не более max_count последних результатов.\n",
    "* продумайте архитектуру кеша так, чтобы для функций:\n",
    "\n",
    "<code>\n",
    "@cached\n",
    "def f1():\n",
    "    pass\n",
    "\n",
    "@cached\n",
    "def f2():\n",
    "    pass\n",
    "</code>    \n",
    "должны иметь по max_count хранимых последних результатов, и т. д.\n",
    "\n",
    "<b>P. S.</b>\n",
    "\n",
    "* Считайте, что функция не имеет состояния (зависит только от передаваемых в нее аргументов).\n",
    "* Храните данные так, чтобы из функции нельзя напрямую было получить закешированные результаты (только через \\_\\_closer\\_\\_).\n",
    "\n",
    "<b>Рекомендации:</b>\n",
    "\n",
    "* Для хранения данных используйте OrderedDict.\n",
    "* Декорируйте wrapper с @functools.wraps(func)"
   ]
  },
  {
   "cell_type": "code",
   "execution_count": null,
   "metadata": {
    "collapsed": true
   },
   "outputs": [],
   "source": [
    "class LruCache(object):\n",
    "    def __init__(self, max_count):\n",
    "        <your code here>\n",
    "\n",
    "    def __getitem__(self, key):\n",
    "        <your code here>\n",
    "\n",
    "    def __setitem__(self, key, value):\n",
    "        <your code here>\n",
    "\n",
    "    pass"
   ]
  },
  {
   "cell_type": "markdown",
   "metadata": {},
   "source": [
    "#### Реализуйте декоратор"
   ]
  },
  {
   "cell_type": "code",
   "execution_count": null,
   "metadata": {
    "collapsed": true
   },
   "outputs": [],
   "source": [
    "def cached(max_count):\n",
    "    <your code here>"
   ]
  },
  {
   "cell_type": "markdown",
   "metadata": {},
   "source": [
    "#### Проверьте использование декоратора"
   ]
  },
  {
   "cell_type": "code",
   "execution_count": null,
   "metadata": {
    "collapsed": false
   },
   "outputs": [],
   "source": [
    "@cached(20)\n",
    "def fact(n):\n",
    "    if n < 2:\n",
    "        return 1\n",
    "    return fact(n-1) * n\n",
    "\n",
    "@cached(20)\n",
    "def fact1(n):\n",
    "    if n < 2:\n",
    "        return 1\n",
    "    return fact1(n-1) * n"
   ]
  },
  {
   "cell_type": "markdown",
   "metadata": {},
   "source": [
    "#### Сравните свою реализацию с lru_cache из functools"
   ]
  },
  {
   "cell_type": "code",
   "execution_count": null,
   "metadata": {
    "collapsed": true
   },
   "outputs": [],
   "source": [
    "from functools import lru_cache\n",
    "<your code here>"
   ]
  },
  {
   "cell_type": "markdown",
   "metadata": {},
   "source": [
    "### Дополнительное задание (0.2 балла)\n",
    "\n",
    "Дополните декоратор @cached так, чтобы не пересчитывать функцию при изменения ее состояния (например, она использовала глобальную переменную)"
   ]
  },
  {
   "cell_type": "code",
   "execution_count": null,
   "metadata": {
    "collapsed": true
   },
   "outputs": [],
   "source": [
    "<your code here>"
   ]
  },
  {
   "cell_type": "markdown",
   "metadata": {
    "collapsed": true
   },
   "source": [
    "## 2. Декоратор @checked (0.3 балла)\n",
    "\n",
    "Напишите декоратор, который будет вызывать исключение (raise TypeError), если в него переданы аргументы не тех типов.\n",
    "\n",
    "<b>P. S.</b> Разберитесь с модулем typing.\n",
    "\n",
    "<b>Рекомендации:</b>\n",
    "\n",
    "* Декорируйте wrapper с @functools.wraps(func)\n",
    "* Чтобы кинуть иключение используйте конструкцию типа:\n",
    "<code>\n",
    "if < some_condtion >:\n",
    "    raise TypeError\n",
    "</code>"
   ]
  },
  {
   "cell_type": "code",
   "execution_count": null,
   "metadata": {
    "collapsed": true
   },
   "outputs": [],
   "source": [
    "def checked(*types):\n",
    "    <your code here>"
   ]
  },
  {
   "cell_type": "markdown",
   "metadata": {},
   "source": [
    "#### Проверьте использование декоратора"
   ]
  },
  {
   "cell_type": "code",
   "execution_count": null,
   "metadata": {
    "collapsed": true
   },
   "outputs": [],
   "source": [
    "from typing import List\n",
    "\n",
    "# Пример\n",
    "@checked(str, int, list)\n",
    "def strange_func(a: str, b: int, c: List):\n",
    "    pass"
   ]
  },
  {
   "cell_type": "code",
   "execution_count": null,
   "metadata": {
    "collapsed": false
   },
   "outputs": [],
   "source": [
    "<your code here>"
   ]
  },
  {
   "cell_type": "markdown",
   "metadata": {},
   "source": [
    "## 3. Декоратор @Logger (0.4 балла)\n",
    "\n",
    "Напишите полноценный logger для вызовов вашей функции. Декоратор должен иметь следующие опции:\n",
    "\n",
    "* Выбор файла в который будет производиться запись: sys.stdout, sys.stderr, локальный файл (передается путь к файлу, если файла нет, то создать, иначе дописывать в конец).\n",
    "* Формат записи в логера: \"<i>index data time functio_name \\*args \\**kwargs result</i>\"\n",
    "* Логер должен быть один для всех функций.\n",
    "\n",
    "<b>Рекомендации:</b>\n",
    "\n",
    "* Декорируйте wrapper с @functools.wraps(func)\n",
    "* Создайте отдельный класс Logger для работы с выводом данных вызовов функций в файл."
   ]
  },
  {
   "cell_type": "code",
   "execution_count": null,
   "metadata": {
    "collapsed": true
   },
   "outputs": [],
   "source": [
    "<your code here>"
   ]
  }
 ],
 "metadata": {
  "kernelspec": {
   "display_name": "Python 3",
   "language": "python",
   "name": "python3"
  },
  "language_info": {
   "codemirror_mode": {
    "name": "ipython",
    "version": 3
   },
   "file_extension": ".py",
   "mimetype": "text/x-python",
   "name": "python",
   "nbconvert_exporter": "python",
   "pygments_lexer": "ipython3",
   "version": "3.6.0"
  }
 },
 "nbformat": 4,
 "nbformat_minor": 2
}
