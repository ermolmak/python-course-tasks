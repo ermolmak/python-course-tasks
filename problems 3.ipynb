{
 "cells": [
  {
   "cell_type": "markdown",
   "metadata": {},
   "source": [
    "# Задание 3"
   ]
  },
  {
   "cell_type": "markdown",
   "metadata": {},
   "source": [
    "#### CounterGetter (0.1 балл)\n",
    "Реализуйте класс CounterGetter, который на вход принимает произвольное количество именованых аргументов и считает количество обращений к полям и методам класса во всех экземплярах."
   ]
  },
  {
   "cell_type": "code",
   "execution_count": 1,
   "metadata": {},
   "outputs": [],
   "source": [
    "class CounterGetter:\n",
    "    _count = 0\n",
    "\n",
    "    def __init__(self, **kwargs):\n",
    "        for name, value in kwargs.items():\n",
    "            object.__setattr__(self, name, value)\n",
    "\n",
    "    def __getattribute__(self, item):\n",
    "        value = object.__getattribute__(self, item)\n",
    "        CounterGetter._count += 1\n",
    "        return value\n",
    "\n",
    "    def __setattr__(self, key, value):\n",
    "        object.__setattr__(self, key, value)\n",
    "        CounterGetter._count += 1\n",
    "\n",
    "    @staticmethod\n",
    "    def get_count():\n",
    "        return CounterGetter._count\n",
    "    \n"
   ]
  },
  {
   "cell_type": "code",
   "execution_count": 2,
   "metadata": {},
   "outputs": [
    {
     "name": "stdout",
     "output_type": "stream",
     "text": [
      "1 2\n",
      "4\n"
     ]
    }
   ],
   "source": [
    "c = CounterGetter(a=1, x=2)\n",
    "print(c.a, c.x)\n",
    "try:\n",
    "    print(c.b)\n",
    "except AttributeError:\n",
    "    pass\n",
    "c.b = 5\n",
    "print(c.get_count())"
   ]
  },
  {
   "cell_type": "markdown",
   "metadata": {},
   "source": [
    "#### Vector (0.4 балла)"
   ]
  },
  {
   "cell_type": "markdown",
   "metadata": {},
   "source": [
    "Реализуйте класс вектор, который должен обладать следующими свойствами:\n",
    "* Над экземплярами выполняются арифметические операции (+-\\*/). Операции могут выполняться как с числами, так и с векторами. Если второй операнд вектор, то верните их скалярное произведение, если число, выполните поэлементное действие.\n",
    "* Реализуйте доступ к элементам вектора по индексам:\n",
    "\n",
    "<code>vec = Vector(1, 2, 3)\n",
    "\n",
    "vec[0]</code>\n",
    "* Реализуйте умножение вектора на матрицу (Матрица задается двумерным списком).\n",
    "* Поддерживайте методы push_back, pop_back, insert.\n",
    "* Реализуйте поддержку функции len\n",
    "\n",
    "P. S. Запрещается использовать numpy и другие библиотеки по работе с векторами. Рекомендуется представлять элементы вектора как список."
   ]
  },
  {
   "cell_type": "code",
   "execution_count": 3,
   "metadata": {},
   "outputs": [],
   "source": [
    "import numbers\n",
    "\n",
    "\n",
    "class Vector(object):\n",
    "    def __init__(self, *args):\n",
    "        if len(args) == 0:\n",
    "            self._storage = []\n",
    "        elif len(args) == 1:\n",
    "            self._storage = list(args[0])\n",
    "        else:\n",
    "            self._storage = list(args)\n",
    "\n",
    "    def __len__(self):\n",
    "        return len(self._storage)\n",
    "\n",
    "    def __getitem__(self, item):\n",
    "        if type(item) == slice:\n",
    "            return NotImplemented\n",
    "        else:\n",
    "            return self._storage[item]\n",
    "\n",
    "    def __setitem__(self, key, value):\n",
    "        if type(key) == slice:\n",
    "            return NotImplemented\n",
    "        else:\n",
    "            self._storage[key] = value\n",
    "\n",
    "    def __repr__(self):\n",
    "        return f'Vector({\", \".join(map(repr, self._storage))})'\n",
    "\n",
    "    def __str__(self):\n",
    "        return f'Vector({\", \".join(map(str, self._storage))})'\n",
    "\n",
    "    def __add__(self, other):\n",
    "        if type(other) != Vector:\n",
    "            return NotImplemented\n",
    "\n",
    "        self._check_vector_len(other)\n",
    "        return Vector(map(lambda x, y: x + y, self._storage, other._storage))\n",
    "\n",
    "    def __sub__(self, other):\n",
    "        if type(other) != Vector:\n",
    "            return NotImplemented\n",
    "\n",
    "        self._check_vector_len(other)\n",
    "        return Vector(map(lambda x, y: x - y, self._storage, other._storage))\n",
    "\n",
    "    def __mul__(self, other):\n",
    "        if type(other) == Vector:\n",
    "            self._check_vector_len(other)\n",
    "            return sum(map(lambda x, y: x * y, self._storage, other._storage))\n",
    "        elif isinstance(other, numbers.Number):\n",
    "            return Vector(map(lambda x: x * other, self._storage))\n",
    "        else:\n",
    "            return NotImplemented\n",
    "\n",
    "    def __rmul__(self, other):\n",
    "        return self * other\n",
    "\n",
    "    def __truediv__(self, other):\n",
    "        if not isinstance(other, numbers.Number):\n",
    "            return NotImplemented\n",
    "        return Vector(map(lambda x: x / other, self._storage))\n",
    "\n",
    "    def _check_vector_len(self, other):\n",
    "        if len(other) != len(self):\n",
    "            raise ValueError(\"operand Vectors aren't length equal\")\n",
    "\n",
    "    def push_back(self, value):\n",
    "        self._storage.append(value)\n",
    "\n",
    "    def pop_back(self):\n",
    "        value = self._storage[-1]\n",
    "        del self._storage[-1]\n",
    "        return value\n",
    "\n",
    "    def insert(self, pos, value):\n",
    "        self._storage.insert(pos, value)\n",
    "\n",
    "    def matrix_mult(self, matrix):\n",
    "        if type(matrix) != list or any(map(lambda x: type(x) != list, matrix)):\n",
    "            raise TypeError('Matrix must be a list of lists')\n",
    "        new_len = len(matrix[0])\n",
    "        if len(matrix) != len(self):\n",
    "            raise ValueError('Matrix height and vector length must be equal')\n",
    "        if any(map(lambda x: len(x) != new_len, matrix)):\n",
    "            raise ValueError('All rows in matrix must have the same length')\n",
    "\n",
    "        res = Vector()\n",
    "        for i in range(new_len):\n",
    "            res.push_back(sum(map(lambda x, y: x * matrix[y][i],\n",
    "                                  self._storage,\n",
    "                                  range(len(self)))))\n",
    "        return res\n",
    "    \n"
   ]
  },
  {
   "cell_type": "code",
   "execution_count": 4,
   "metadata": {},
   "outputs": [],
   "source": [
    "a = Vector(1, 1.5, -5)\n",
    "b = Vector(-4, 0, 3.14)\n",
    "c = Vector(1, 2)"
   ]
  },
  {
   "cell_type": "code",
   "execution_count": 5,
   "metadata": {},
   "outputs": [
    {
     "data": {
      "text/plain": [
       "Vector(-3, 1.5, -1.8599999999999999)"
      ]
     },
     "execution_count": 5,
     "metadata": {},
     "output_type": "execute_result"
    }
   ],
   "source": [
    "a + b"
   ]
  },
  {
   "cell_type": "code",
   "execution_count": 6,
   "metadata": {},
   "outputs": [
    {
     "ename": "ValueError",
     "evalue": "operand Vectors aren't length equal",
     "output_type": "error",
     "traceback": [
      "\u001b[0;31m---------------------------------------------------------------------------\u001b[0m",
      "\u001b[0;31mValueError\u001b[0m                                Traceback (most recent call last)",
      "\u001b[0;32m<ipython-input-6-e81e582b6fa9>\u001b[0m in \u001b[0;36m<module>\u001b[0;34m\u001b[0m\n\u001b[0;32m----> 1\u001b[0;31m \u001b[0ma\u001b[0m \u001b[0;34m+\u001b[0m \u001b[0mc\u001b[0m\u001b[0;34m\u001b[0m\u001b[0m\n\u001b[0m",
      "\u001b[0;32m<ipython-input-3-b2cfe439ccf0>\u001b[0m in \u001b[0;36m__add__\u001b[0;34m(self, other)\u001b[0m\n\u001b[1;32m     36\u001b[0m             \u001b[0;32mreturn\u001b[0m \u001b[0mNotImplemented\u001b[0m\u001b[0;34m\u001b[0m\u001b[0m\n\u001b[1;32m     37\u001b[0m \u001b[0;34m\u001b[0m\u001b[0m\n\u001b[0;32m---> 38\u001b[0;31m         \u001b[0mself\u001b[0m\u001b[0;34m.\u001b[0m\u001b[0m_check_vector_len\u001b[0m\u001b[0;34m(\u001b[0m\u001b[0mother\u001b[0m\u001b[0;34m)\u001b[0m\u001b[0;34m\u001b[0m\u001b[0m\n\u001b[0m\u001b[1;32m     39\u001b[0m         \u001b[0;32mreturn\u001b[0m \u001b[0mVector\u001b[0m\u001b[0;34m(\u001b[0m\u001b[0mmap\u001b[0m\u001b[0;34m(\u001b[0m\u001b[0;32mlambda\u001b[0m \u001b[0mx\u001b[0m\u001b[0;34m,\u001b[0m \u001b[0my\u001b[0m\u001b[0;34m:\u001b[0m \u001b[0mx\u001b[0m \u001b[0;34m+\u001b[0m \u001b[0my\u001b[0m\u001b[0;34m,\u001b[0m \u001b[0mself\u001b[0m\u001b[0;34m.\u001b[0m\u001b[0m_storage\u001b[0m\u001b[0;34m,\u001b[0m \u001b[0mother\u001b[0m\u001b[0;34m.\u001b[0m\u001b[0m_storage\u001b[0m\u001b[0;34m)\u001b[0m\u001b[0;34m)\u001b[0m\u001b[0;34m\u001b[0m\u001b[0m\n\u001b[1;32m     40\u001b[0m \u001b[0;34m\u001b[0m\u001b[0m\n",
      "\u001b[0;32m<ipython-input-3-b2cfe439ccf0>\u001b[0m in \u001b[0;36m_check_vector_len\u001b[0;34m(self, other)\u001b[0m\n\u001b[1;32m     65\u001b[0m     \u001b[0;32mdef\u001b[0m \u001b[0m_check_vector_len\u001b[0m\u001b[0;34m(\u001b[0m\u001b[0mself\u001b[0m\u001b[0;34m,\u001b[0m \u001b[0mother\u001b[0m\u001b[0;34m)\u001b[0m\u001b[0;34m:\u001b[0m\u001b[0;34m\u001b[0m\u001b[0m\n\u001b[1;32m     66\u001b[0m         \u001b[0;32mif\u001b[0m \u001b[0mlen\u001b[0m\u001b[0;34m(\u001b[0m\u001b[0mother\u001b[0m\u001b[0;34m)\u001b[0m \u001b[0;34m!=\u001b[0m \u001b[0mlen\u001b[0m\u001b[0;34m(\u001b[0m\u001b[0mself\u001b[0m\u001b[0;34m)\u001b[0m\u001b[0;34m:\u001b[0m\u001b[0;34m\u001b[0m\u001b[0m\n\u001b[0;32m---> 67\u001b[0;31m             \u001b[0;32mraise\u001b[0m \u001b[0mValueError\u001b[0m\u001b[0;34m(\u001b[0m\u001b[0;34m\"operand Vectors aren't length equal\"\u001b[0m\u001b[0;34m)\u001b[0m\u001b[0;34m\u001b[0m\u001b[0m\n\u001b[0m\u001b[1;32m     68\u001b[0m \u001b[0;34m\u001b[0m\u001b[0m\n\u001b[1;32m     69\u001b[0m     \u001b[0;32mdef\u001b[0m \u001b[0mpush_back\u001b[0m\u001b[0;34m(\u001b[0m\u001b[0mself\u001b[0m\u001b[0;34m,\u001b[0m \u001b[0mvalue\u001b[0m\u001b[0;34m)\u001b[0m\u001b[0;34m:\u001b[0m\u001b[0;34m\u001b[0m\u001b[0m\n",
      "\u001b[0;31mValueError\u001b[0m: operand Vectors aren't length equal"
     ]
    }
   ],
   "source": [
    "a + c"
   ]
  },
  {
   "cell_type": "code",
   "execution_count": 7,
   "metadata": {},
   "outputs": [
    {
     "data": {
      "text/plain": [
       "-19.700000000000003"
      ]
     },
     "execution_count": 7,
     "metadata": {},
     "output_type": "execute_result"
    }
   ],
   "source": [
    "a * b"
   ]
  },
  {
   "cell_type": "code",
   "execution_count": 8,
   "metadata": {},
   "outputs": [
    {
     "data": {
      "text/plain": [
       "Vector(2, 3.0, -10)"
      ]
     },
     "execution_count": 8,
     "metadata": {},
     "output_type": "execute_result"
    }
   ],
   "source": [
    "a * 2"
   ]
  },
  {
   "cell_type": "code",
   "execution_count": 9,
   "metadata": {},
   "outputs": [
    {
     "data": {
      "text/plain": [
       "Vector(2, 3.0, -10)"
      ]
     },
     "execution_count": 9,
     "metadata": {},
     "output_type": "execute_result"
    }
   ],
   "source": [
    "2 * a"
   ]
  },
  {
   "cell_type": "code",
   "execution_count": 10,
   "metadata": {},
   "outputs": [
    {
     "data": {
      "text/plain": [
       "Vector(0.5, 0.75, -2.5)"
      ]
     },
     "execution_count": 10,
     "metadata": {},
     "output_type": "execute_result"
    }
   ],
   "source": [
    "a / 2"
   ]
  },
  {
   "cell_type": "code",
   "execution_count": 11,
   "metadata": {},
   "outputs": [
    {
     "data": {
      "text/plain": [
       "(3, 3, 2)"
      ]
     },
     "execution_count": 11,
     "metadata": {},
     "output_type": "execute_result"
    }
   ],
   "source": [
    "len(a), len(b), len(c)"
   ]
  },
  {
   "cell_type": "code",
   "execution_count": 12,
   "metadata": {},
   "outputs": [
    {
     "data": {
      "text/plain": [
       "Vector(-11.0, -18.5, -26.0)"
      ]
     },
     "execution_count": 12,
     "metadata": {},
     "output_type": "execute_result"
    }
   ],
   "source": [
    "a.matrix_mult([[1, 4, 7], [2, 5, 8], [3, 6, 9]])"
   ]
  },
  {
   "cell_type": "markdown",
   "metadata": {},
   "source": [
    "#### Table (0.5 баллов)"
   ]
  },
  {
   "cell_type": "markdown",
   "metadata": {},
   "source": [
    "Реализуйте класс для работы с таблицами. Класс должен обладать следующей функциональностью:\n",
    "\n",
    "* Таблица может задаваться как двумерным списком, так и читаться из файла. Если читается из файла, то должен быть указан разделитель.\n",
    "\n",
    "* Обладать возможностью задания названия колонок (по номеру, если не задано). Если читается из файла и задан параметр наличия именованных колонок, то первая строчка файла отвечает за названия колонок.\n",
    "\n",
    "* Реализуйте доступ к колонкам по названю и по индекс:\n",
    "\n",
    "<code>t = Table()\n",
    "\n",
    "t[\"index\"]</code>\n",
    "\n",
    "* Реализуйте функции head и tail, которые показывают заданное число строк с начала и с конца соответственно.\n",
    "* Реадизуйте методы unique и count, которые выводят все уникальные элементы для таблицы или для заданного столбца:\n",
    "\n",
    "<code>t[\"sex\"].unique()\n",
    "\n",
    "t.unique()</code>"
   ]
  },
  {
   "cell_type": "code",
   "execution_count": 25,
   "metadata": {},
   "outputs": [],
   "source": [
    "class Table:\n",
    "    class _Column:\n",
    "        def __init__(self, iterable, name=None):\n",
    "            self._storage = list(iterable)\n",
    "            self._name = name\n",
    "\n",
    "        @property\n",
    "        def name(self):\n",
    "            return self._name\n",
    "\n",
    "        @name.setter\n",
    "        def name(self, value):\n",
    "            if type(value) != str and value is not None:\n",
    "                raise TypeError(\"columns name must be 'str' or None\")\n",
    "            self._name = value\n",
    "\n",
    "        def __len__(self):\n",
    "            return len(self._storage)\n",
    "\n",
    "        def __getitem__(self, item):\n",
    "            return self._storage[item]\n",
    "\n",
    "        def __setitem__(self, key, value):\n",
    "            self._storage[key] = value\n",
    "\n",
    "        def unique(self):\n",
    "            return set(self._storage)\n",
    "\n",
    "        def count(self):\n",
    "            return len(self.unique())\n",
    "\n",
    "        def __str__(self):\n",
    "            return str(self._storage)\n",
    "\n",
    "    @staticmethod\n",
    "    def _col_iter(table, col):\n",
    "        for i in range(len(table)):\n",
    "            try:\n",
    "                yield table[i][col]\n",
    "            except IndexError:\n",
    "                yield None\n",
    "\n",
    "    def __init__(self, table):\n",
    "        if type(table) != list or any(map(lambda x: type(x) != list, table)):\n",
    "            raise TypeError('initializer must be a list of lists')\n",
    "\n",
    "        col_num = max(map(len, table), default=0)\n",
    "        self._columns = []\n",
    "        for i in range(col_num):\n",
    "            self._columns.append(Table._Column(Table._col_iter(table, i)))\n",
    "\n",
    "        self._names = {}\n",
    "\n",
    "    def __len__(self):\n",
    "        return len(self._columns)\n",
    "\n",
    "    def set_name(self, index, name):\n",
    "        if name in self._names:\n",
    "            raise ValueError(f'\"{name}\" column already exists')\n",
    "\n",
    "        old_name = self._columns[index].name\n",
    "        self._columns[index].name = name\n",
    "\n",
    "        if old_name is not None:\n",
    "            del self._names[old_name]\n",
    "        if name is not None:\n",
    "            self._names[name] = index\n",
    "\n",
    "    def __getitem__(self, item):\n",
    "        if type(item) == str:\n",
    "            return self._columns[self._names[item]]\n",
    "        elif type(item) == int:\n",
    "            return self._columns[item]\n",
    "\n",
    "    def head(self, count):\n",
    "        res = Table([])\n",
    "\n",
    "        for col in self._columns:\n",
    "            res._columns.append(Table._Column(col[:count], name=col.name))\n",
    "\n",
    "        res._names = self._names\n",
    "        return res\n",
    "\n",
    "    def tail(self, count):\n",
    "        res = Table([])\n",
    "\n",
    "        for col in self._columns:\n",
    "            res._columns.append(Table._Column(col[-count:], name=col.name))\n",
    "\n",
    "        res._names = self._names\n",
    "        return res\n",
    "\n",
    "    @staticmethod\n",
    "    def read(file, titles=False, sep=','):\n",
    "        names = []\n",
    "        if titles:\n",
    "            names = file.readline().split(sep)\n",
    "        data = []\n",
    "        for line in file:\n",
    "            data.append(line.split(sep))\n",
    "\n",
    "        res = Table(data)\n",
    "\n",
    "        if titles:\n",
    "            for i in range(min(len(res), len(names))):\n",
    "                res.set_name(i, names[i])\n",
    "\n",
    "    def unique(self):\n",
    "        res = set()\n",
    "        for col in self._columns:\n",
    "            res |= col.unique()\n",
    "        return res\n",
    "\n",
    "    def count(self):\n",
    "        return len(self.unique())\n",
    "\n",
    "    def __str__(self):\n",
    "        res = []\n",
    "        for i in range(len(self)):\n",
    "            out = [f'Column #{i} ', ': ', str(self._columns[i])]\n",
    "            name = self._columns[i].name\n",
    "            if name is not None:\n",
    "                out.insert(1, f'({name})')\n",
    "            res.append(''.join(out))\n",
    "        return '\\n'.join(res)\n",
    "\n"
   ]
  },
  {
   "cell_type": "code",
   "execution_count": 26,
   "metadata": {},
   "outputs": [
    {
     "name": "stdout",
     "output_type": "stream",
     "text": [
      "Column #0 : [1, 2, 3]\n",
      "Column #1 : ['one', 'two', 'three']\n",
      "Column #2 : ['один', None, 'три']\n"
     ]
    }
   ],
   "source": [
    "t = Table([[1, 'one', 'один'], [2, 'two'], [3, 'three', 'три']])\n",
    "print(t)"
   ]
  },
  {
   "cell_type": "code",
   "execution_count": 27,
   "metadata": {},
   "outputs": [
    {
     "name": "stdout",
     "output_type": "stream",
     "text": [
      "Column #0 (int): [1, 2, 3]\n",
      "Column #1 : ['one', 'two', 'three']\n",
      "Column #2 : ['один', None, 'три']\n"
     ]
    }
   ],
   "source": [
    "t.set_name(0, 'int')\n",
    "print(t)"
   ]
  },
  {
   "cell_type": "code",
   "execution_count": 28,
   "metadata": {},
   "outputs": [
    {
     "name": "stdout",
     "output_type": "stream",
     "text": [
      "Column #0 (int): [1, 2, 3]\n",
      "Column #1 : ['one', 'two', 'three']\n",
      "Column #2 (rus): ['один', None, 'три']\n"
     ]
    }
   ],
   "source": [
    "t.set_name(2, 'rus')\n",
    "print(t)"
   ]
  },
  {
   "cell_type": "code",
   "execution_count": 29,
   "metadata": {},
   "outputs": [
    {
     "name": "stdout",
     "output_type": "stream",
     "text": [
      "Column #0 (int): [1, 2, 3]\n",
      "Column #1 : ['one', 'two', 'three']\n",
      "Column #2 (rus): ['один', 'два', 'три']\n"
     ]
    }
   ],
   "source": [
    "t['rus'][1] = 'два'\n",
    "print(t)"
   ]
  },
  {
   "cell_type": "code",
   "execution_count": 30,
   "metadata": {},
   "outputs": [
    {
     "name": "stdout",
     "output_type": "stream",
     "text": [
      "Column #0 (int): [1, 2]\n",
      "Column #1 : ['one', 'two']\n",
      "Column #2 (rus): ['один', 'два']\n"
     ]
    }
   ],
   "source": [
    "print(t.head(2))"
   ]
  },
  {
   "cell_type": "code",
   "execution_count": 31,
   "metadata": {},
   "outputs": [
    {
     "name": "stdout",
     "output_type": "stream",
     "text": [
      "Column #0 (int): [3]\n",
      "Column #1 : ['three']\n",
      "Column #2 (rus): ['три']\n"
     ]
    }
   ],
   "source": [
    "print(t.tail(1))"
   ]
  },
  {
   "cell_type": "code",
   "execution_count": 32,
   "metadata": {},
   "outputs": [
    {
     "data": {
      "text/plain": [
       "{'one', 'three', 'two'}"
      ]
     },
     "execution_count": 32,
     "metadata": {},
     "output_type": "execute_result"
    }
   ],
   "source": [
    "t[1].unique()"
   ]
  },
  {
   "cell_type": "code",
   "execution_count": 33,
   "metadata": {},
   "outputs": [
    {
     "data": {
      "text/plain": [
       "3"
      ]
     },
     "execution_count": 33,
     "metadata": {},
     "output_type": "execute_result"
    }
   ],
   "source": [
    "t[0].count()"
   ]
  },
  {
   "cell_type": "code",
   "execution_count": 34,
   "metadata": {},
   "outputs": [
    {
     "data": {
      "text/plain": [
       "{1, 2, 3, 'one', 'three', 'two', 'два', 'один', 'три'}"
      ]
     },
     "execution_count": 34,
     "metadata": {},
     "output_type": "execute_result"
    }
   ],
   "source": [
    "t.unique()"
   ]
  },
  {
   "cell_type": "code",
   "execution_count": 35,
   "metadata": {},
   "outputs": [
    {
     "data": {
      "text/plain": [
       "9"
      ]
     },
     "execution_count": 35,
     "metadata": {},
     "output_type": "execute_result"
    }
   ],
   "source": [
    "t.count()"
   ]
  },
  {
   "cell_type": "code",
   "execution_count": 38,
   "metadata": {},
   "outputs": [
    {
     "data": {
      "text/plain": [
       "({'два', 'один'}, 2)"
      ]
     },
     "execution_count": 38,
     "metadata": {},
     "output_type": "execute_result"
    }
   ],
   "source": [
    "t['rus'][2] = 'один'\n",
    "t[2].unique(), t[2].count()"
   ]
  },
  {
   "cell_type": "code",
   "execution_count": 39,
   "metadata": {},
   "outputs": [
    {
     "data": {
      "text/plain": [
       "({1, 2, 3, 'one', 'three', 'two', 'два', 'один'}, 8)"
      ]
     },
     "execution_count": 39,
     "metadata": {},
     "output_type": "execute_result"
    }
   ],
   "source": [
    "t.unique(), t.count()"
   ]
  },
  {
   "cell_type": "code",
   "execution_count": null,
   "metadata": {},
   "outputs": [],
   "source": []
  }
 ],
 "metadata": {
  "kernelspec": {
   "display_name": "Python 3",
   "language": "python",
   "name": "python3"
  },
  "language_info": {
   "codemirror_mode": {
    "name": "ipython",
    "version": 3
   },
   "file_extension": ".py",
   "mimetype": "text/x-python",
   "name": "python",
   "nbconvert_exporter": "python",
   "pygments_lexer": "ipython3",
   "version": "3.7.0"
  }
 },
 "nbformat": 4,
 "nbformat_minor": 2
}
