{
 "cells": [
  {
   "cell_type": "markdown",
   "metadata": {},
   "source": [
    "# Задание 5"
   ]
  },
  {
   "cell_type": "markdown",
   "metadata": {},
   "source": [
    "## 1. ContextTimer(0.3 балла)\n",
    "Напишите менеджер контекста, который позволит засекать время выполнения блока кода с помощью конструкции with и выводить это время на экран по выходу из блока. Пример использования:\n",
    "\n",
    "<code>\n",
    "with Timer ():\n",
    "    do_some_long_stuff()\n",
    "</code>\n",
    "\n",
    "Рекомендации: используйте стандартную библиотеку для работы со временем.\n",
    "\n",
    "Протестируйте себя."
   ]
  },
  {
   "cell_type": "code",
   "execution_count": 1,
   "metadata": {},
   "outputs": [],
   "source": [
    "import time\n",
    "\n",
    "\n",
    "class Timer:\n",
    "    def __enter__(self):\n",
    "        self.start_time = time.process_time()\n",
    "\n",
    "    def __exit__(self, exc_type, exc_val, exc_tb):\n",
    "        self.stop_time = time.process_time()\n",
    "        print('This block has been working for '\n",
    "              f'{self.stop_time - self.start_time} s')\n",
    "        return exc_type is None\n"
   ]
  },
  {
   "cell_type": "markdown",
   "metadata": {},
   "source": [
    "Тестируемся на сортировке пузырьком"
   ]
  },
  {
   "cell_type": "code",
   "execution_count": 2,
   "metadata": {},
   "outputs": [],
   "source": [
    "def bubble_sort(a):\n",
    "    for i in range(len(a) - 2, -1, -1):\n",
    "        for j in range(i + 1):\n",
    "            if a[j] > a[j + 1]:\n",
    "                a[j], a[j + 1] = a[j + 1], a[j]"
   ]
  },
  {
   "cell_type": "code",
   "execution_count": 3,
   "metadata": {},
   "outputs": [
    {
     "name": "stdout",
     "output_type": "stream",
     "text": [
      "This block has been working for 5.9480000000000643e-05 s\n"
     ]
    }
   ],
   "source": [
    "a = list(reversed(range(10)))\n",
    "with Timer():\n",
    "    bubble_sort(a)"
   ]
  },
  {
   "cell_type": "code",
   "execution_count": 4,
   "metadata": {},
   "outputs": [
    {
     "name": "stdout",
     "output_type": "stream",
     "text": [
      "This block has been working for 0.0008144310000000043 s\n"
     ]
    }
   ],
   "source": [
    "a = list(reversed(range(100)))\n",
    "with Timer():\n",
    "    bubble_sort(a)"
   ]
  },
  {
   "cell_type": "markdown",
   "metadata": {},
   "source": [
    "Один и тот же экземпляр <code>Timer</code> можно использовать много раз (если он используется ек более чем одним менеджером контекста одновременно)"
   ]
  },
  {
   "cell_type": "code",
   "execution_count": 5,
   "metadata": {},
   "outputs": [
    {
     "name": "stdout",
     "output_type": "stream",
     "text": [
      "This block has been working for 0.10925626300000002 s\n"
     ]
    }
   ],
   "source": [
    "a = list(reversed(range(1000)))\n",
    "t = Timer()\n",
    "with t:\n",
    "    bubble_sort(a)"
   ]
  },
  {
   "cell_type": "code",
   "execution_count": 6,
   "metadata": {},
   "outputs": [
    {
     "name": "stdout",
     "output_type": "stream",
     "text": [
      "This block has been working for 8.982510861000002 s\n"
     ]
    }
   ],
   "source": [
    "a = list(reversed(range(10_000)))\n",
    "with t:\n",
    "    bubble_sort(a)"
   ]
  },
  {
   "cell_type": "markdown",
   "metadata": {},
   "source": [
    "Проверка на исключения"
   ]
  },
  {
   "cell_type": "code",
   "execution_count": 7,
   "metadata": {},
   "outputs": [
    {
     "name": "stdout",
     "output_type": "stream",
     "text": [
      "This block has been working for 1.1770000000410619e-05 s\n"
     ]
    },
    {
     "ename": "Exception",
     "evalue": "",
     "output_type": "error",
     "traceback": [
      "\u001b[0;31m---------------------------------------------------------------------------\u001b[0m",
      "\u001b[0;31mException\u001b[0m                                 Traceback (most recent call last)",
      "\u001b[0;32m<ipython-input-7-46be1fa2fe12>\u001b[0m in \u001b[0;36m<module>\u001b[0;34m\u001b[0m\n\u001b[1;32m      1\u001b[0m \u001b[0;32mwith\u001b[0m \u001b[0mTimer\u001b[0m\u001b[0;34m(\u001b[0m\u001b[0;34m)\u001b[0m\u001b[0;34m:\u001b[0m\u001b[0;34m\u001b[0m\u001b[0m\n\u001b[0;32m----> 2\u001b[0;31m     \u001b[0;32mraise\u001b[0m \u001b[0mException\u001b[0m\u001b[0;34m(\u001b[0m\u001b[0;34m)\u001b[0m\u001b[0;34m\u001b[0m\u001b[0m\n\u001b[0m",
      "\u001b[0;31mException\u001b[0m: "
     ]
    }
   ],
   "source": [
    "with Timer():\n",
    "    raise Exception()"
   ]
  },
  {
   "cell_type": "markdown",
   "metadata": {},
   "source": [
    "## 2.Transaction (0.4 балла)\n",
    "Вам необходимо написать менеджер контекстов, который позволит безопасно работать с транзакциями. Напишите класс Storage, в котором будут храниться какие-то данные в виде словаря. Эти данные должны быть закрытыми и их можно только читать через операцию []. У этого класса должен быть метод edit, который возвращает менеджер контекста, позволяющий редактировать исходный объект (опять же через []). При этом результаты редактирования записываются в исходный объект только если весь блок выполнился успешно. Пример использования:\n",
    "\n",
    "<code>\n",
    "s = Storage()\n",
    "with s.edit() as se :\n",
    "    se[\"a\"] = 1\n",
    "    may_be_an_exception_here()\n",
    "</code>\n",
    "\n",
    "Протестируйте себя."
   ]
  },
  {
   "cell_type": "code",
   "execution_count": 8,
   "metadata": {},
   "outputs": [],
   "source": [
    "class _ContextManager:\n",
    "    def __init__(self, main_storage):\n",
    "        self._main_storage = main_storage\n",
    "        self._new_storage = {}\n",
    "\n",
    "    def __getitem__(self, item):\n",
    "        try:\n",
    "            return self._new_storage[item]\n",
    "        except KeyError:\n",
    "            return self._main_storage[item]\n",
    "\n",
    "    def __setitem__(self, key, value):\n",
    "        self._new_storage[key] = value\n",
    "\n",
    "    def __enter__(self):\n",
    "        return self\n",
    "\n",
    "    def __exit__(self, exc_type, exc_val, exc_tb):\n",
    "        if exc_type is not None:\n",
    "            return False\n",
    "\n",
    "        for key, value in self._new_storage.items():\n",
    "            self._main_storage[key] = value\n",
    "        return True\n",
    "\n",
    "\n",
    "class Storage:\n",
    "    def __init__(self, *args, **kwargs):\n",
    "        self._storage = dict(*args, **kwargs)\n",
    "\n",
    "    def __len__(self):\n",
    "        return len(self._storage)\n",
    "\n",
    "    def __getitem__(self, item):\n",
    "        return self._storage[item]\n",
    "\n",
    "    def edit(self):\n",
    "        return _ContextManager(self._storage)\n",
    "\n",
    "    def __repr__(self):\n",
    "        return f'Storage({repr(self._storage)})'\n",
    "\n",
    "    def __str__(self):\n",
    "        return f'Storage({str(self._storage)})'\n"
   ]
  },
  {
   "cell_type": "code",
   "execution_count": 9,
   "metadata": {},
   "outputs": [
    {
     "data": {
      "text/plain": [
       "Storage({'one': 1, 'two': 2})"
      ]
     },
     "execution_count": 9,
     "metadata": {},
     "output_type": "execute_result"
    }
   ],
   "source": [
    "s = Storage(one=1, two=2)\n",
    "s"
   ]
  },
  {
   "cell_type": "code",
   "execution_count": 10,
   "metadata": {},
   "outputs": [
    {
     "data": {
      "text/plain": [
       "2"
      ]
     },
     "execution_count": 10,
     "metadata": {},
     "output_type": "execute_result"
    }
   ],
   "source": [
    "s['two']"
   ]
  },
  {
   "cell_type": "code",
   "execution_count": 12,
   "metadata": {},
   "outputs": [
    {
     "ename": "TypeError",
     "evalue": "'Storage' object does not support item assignment",
     "output_type": "error",
     "traceback": [
      "\u001b[0;31m---------------------------------------------------------------------------\u001b[0m",
      "\u001b[0;31mTypeError\u001b[0m                                 Traceback (most recent call last)",
      "\u001b[0;32m<ipython-input-12-0a6c5caa3d32>\u001b[0m in \u001b[0;36m<module>\u001b[0;34m\u001b[0m\n\u001b[0;32m----> 1\u001b[0;31m \u001b[0ms\u001b[0m\u001b[0;34m[\u001b[0m\u001b[0;34m'three'\u001b[0m\u001b[0;34m]\u001b[0m \u001b[0;34m=\u001b[0m \u001b[0;36m3\u001b[0m\u001b[0;34m\u001b[0m\u001b[0m\n\u001b[0m",
      "\u001b[0;31mTypeError\u001b[0m: 'Storage' object does not support item assignment"
     ]
    }
   ],
   "source": [
    "s['three'] = 3"
   ]
  },
  {
   "cell_type": "code",
   "execution_count": 13,
   "metadata": {},
   "outputs": [
    {
     "name": "stdout",
     "output_type": "stream",
     "text": [
      "3\n",
      "два\n",
      "2\n",
      "два\n",
      "Storage({'one': 1, 'two': 'два', 'three': 3})\n"
     ]
    }
   ],
   "source": [
    "with s.edit() as se:\n",
    "    se['three'] = 3\n",
    "    print(se['three'])\n",
    "    se['two'] = 'два'\n",
    "    print(se['two'])\n",
    "    print(s['two'])\n",
    "print(s['two'])\n",
    "print(s)"
   ]
  },
  {
   "cell_type": "code",
   "execution_count": 14,
   "metadata": {},
   "outputs": [
    {
     "name": "stdout",
     "output_type": "stream",
     "text": [
      "4\n",
      "Storage({'one': 1, 'two': 'два', 'three': 3})\n"
     ]
    }
   ],
   "source": [
    "try:\n",
    "    with s.edit() as se:\n",
    "        se['four'] = 4\n",
    "        print(se['four'])\n",
    "        raise KeyboardInterrupt()\n",
    "except KeyboardInterrupt:\n",
    "    pass\n",
    "print(s)"
   ]
  },
  {
   "cell_type": "markdown",
   "metadata": {},
   "source": [
    "## Phone numbers (0.3)\n",
    "Напишите регулярное выражение для распознавания телефонных номеров и протестируйте себя. Номера, которые должны распознаваться:\n",
    "* 3-22-46\n",
    "* +71239513749\n",
    "* 71239513749\n",
    "* 1239513749\n",
    "* +7(123)-951-37-49\n",
    "* +7(123)9513749\n",
    "* +7-123-9513749\n",
    "* +7-123-951-37-49\n",
    "\n",
    "* 7(123)-951-37-49\n",
    "* 7(123)9513749\n",
    "* 7-123-9513749\n",
    "* 7-123-951-37-49\n",
    "\n",
    "* (123)-951-37-49\n",
    "* (123)9513749\n",
    "* 123-9513749\n",
    "* 123-951-37-49"
   ]
  },
  {
   "cell_type": "code",
   "execution_count": null,
   "metadata": {
    "collapsed": true
   },
   "outputs": [],
   "source": [
    "<your code here>"
   ]
  }
 ],
 "metadata": {
  "kernelspec": {
   "display_name": "Python 3",
   "language": "python",
   "name": "python3"
  },
  "language_info": {
   "codemirror_mode": {
    "name": "ipython",
    "version": 3
   },
   "file_extension": ".py",
   "mimetype": "text/x-python",
   "name": "python",
   "nbconvert_exporter": "python",
   "pygments_lexer": "ipython3",
   "version": "3.7.0"
  }
 },
 "nbformat": 4,
 "nbformat_minor": 2
}
