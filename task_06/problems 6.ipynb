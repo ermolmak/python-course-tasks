{
 "cells": [
  {
   "cell_type": "markdown",
   "metadata": {},
   "source": [
    "# Задание 6"
   ]
  },
  {
   "cell_type": "markdown",
   "metadata": {},
   "source": [
    "### Пример входных данных"
   ]
  },
  {
   "cell_type": "code",
   "execution_count": 1,
   "metadata": {},
   "outputs": [],
   "source": [
    "import pandas as pd\n",
    "clinton = pd.read_csv(\"clinton.csv\", encoding=\"utf-8\")\n",
    "trump = pd.read_csv(\"trump.csv\", encoding=\"utf-8\")"
   ]
  },
  {
   "cell_type": "code",
   "execution_count": 2,
   "metadata": {},
   "outputs": [
    {
     "data": {
      "text/html": [
       "<div>\n",
       "<style scoped>\n",
       "    .dataframe tbody tr th:only-of-type {\n",
       "        vertical-align: middle;\n",
       "    }\n",
       "\n",
       "    .dataframe tbody tr th {\n",
       "        vertical-align: top;\n",
       "    }\n",
       "\n",
       "    .dataframe thead th {\n",
       "        text-align: right;\n",
       "    }\n",
       "</style>\n",
       "<table border=\"1\" class=\"dataframe\">\n",
       "  <thead>\n",
       "    <tr style=\"text-align: right;\">\n",
       "      <th></th>\n",
       "      <th>text</th>\n",
       "    </tr>\n",
       "  </thead>\n",
       "  <tbody>\n",
       "    <tr>\n",
       "      <th>0</th>\n",
       "      <td>Join me for a 3pm rally - tomorrow at the Mid-...</td>\n",
       "    </tr>\n",
       "    <tr>\n",
       "      <th>1</th>\n",
       "      <td>Once again, we will have a government of, by a...</td>\n",
       "    </tr>\n",
       "    <tr>\n",
       "      <th>2</th>\n",
       "      <td>On National #VoterRegistrationDay, make sure y...</td>\n",
       "    </tr>\n",
       "    <tr>\n",
       "      <th>3</th>\n",
       "      <td>Hillary Clinton's Campaign Continues To Make F...</td>\n",
       "    </tr>\n",
       "    <tr>\n",
       "      <th>4</th>\n",
       "      <td>'CNBC, Time magazine online polls say Donald T...</td>\n",
       "    </tr>\n",
       "  </tbody>\n",
       "</table>\n",
       "</div>"
      ],
      "text/plain": [
       "                                                text\n",
       "0  Join me for a 3pm rally - tomorrow at the Mid-...\n",
       "1  Once again, we will have a government of, by a...\n",
       "2  On National #VoterRegistrationDay, make sure y...\n",
       "3  Hillary Clinton's Campaign Continues To Make F...\n",
       "4  'CNBC, Time magazine online polls say Donald T..."
      ]
     },
     "execution_count": 2,
     "metadata": {},
     "output_type": "execute_result"
    }
   ],
   "source": [
    "trump.head()"
   ]
  },
  {
   "cell_type": "code",
   "execution_count": 3,
   "metadata": {},
   "outputs": [
    {
     "data": {
      "text/html": [
       "<div>\n",
       "<style scoped>\n",
       "    .dataframe tbody tr th:only-of-type {\n",
       "        vertical-align: middle;\n",
       "    }\n",
       "\n",
       "    .dataframe tbody tr th {\n",
       "        vertical-align: top;\n",
       "    }\n",
       "\n",
       "    .dataframe thead th {\n",
       "        text-align: right;\n",
       "    }\n",
       "</style>\n",
       "<table border=\"1\" class=\"dataframe\">\n",
       "  <thead>\n",
       "    <tr style=\"text-align: right;\">\n",
       "      <th></th>\n",
       "      <th>text</th>\n",
       "    </tr>\n",
       "  </thead>\n",
       "  <tbody>\n",
       "    <tr>\n",
       "      <th>0</th>\n",
       "      <td>The question in this election: Who can put the...</td>\n",
       "    </tr>\n",
       "    <tr>\n",
       "      <th>1</th>\n",
       "      <td>Last night, Donald Trump said not paying taxes...</td>\n",
       "    </tr>\n",
       "    <tr>\n",
       "      <th>2</th>\n",
       "      <td>Couldn't be more proud of @HillaryClinton. Her...</td>\n",
       "    </tr>\n",
       "    <tr>\n",
       "      <th>3</th>\n",
       "      <td>If we stand together, there's nothing we can't...</td>\n",
       "    </tr>\n",
       "    <tr>\n",
       "      <th>4</th>\n",
       "      <td>Both candidates were asked about how they'd co...</td>\n",
       "    </tr>\n",
       "  </tbody>\n",
       "</table>\n",
       "</div>"
      ],
      "text/plain": [
       "                                                text\n",
       "0  The question in this election: Who can put the...\n",
       "1  Last night, Donald Trump said not paying taxes...\n",
       "2  Couldn't be more proud of @HillaryClinton. Her...\n",
       "3  If we stand together, there's nothing we can't...\n",
       "4  Both candidates were asked about how they'd co..."
      ]
     },
     "execution_count": 3,
     "metadata": {},
     "output_type": "execute_result"
    }
   ],
   "source": [
    "clinton.head()"
   ]
  },
  {
   "cell_type": "markdown",
   "metadata": {},
   "source": [
    "## Описание задания\n",
    "\n",
    "Предлагается написать генератор случайных диалогов на основе твитов Трампа (файл <i>\"trump.csv\"</i>) и Хеллори Клинтон (файл <i>\"clinton.csv\"</i>).\n",
    "\n",
    "* Каждый диалог состоит из нескольких \"ходов\" (<i>turn</i>).\n",
    "* Каждый такой <i>turn</i> представляет собой цепочку нескольких реплик разных агентов (участников диалога, их может быть больше двух).\n",
    "* Цепочка реплик представляет собой набор реплик агентов. Первое сообщение в цепочке - <i>\"исходное сообщение\"</i> на которое отвечают оставшиеся агенты (по одному сообщению за turn).\n",
    "\n",
    "Программа должна представлять отдельный пакет следующей структуры:\n",
    "<ul>\n",
    "<li>run\\_generator.py</li>\n",
    "<li>dialogsgenerator:\n",
    "<ul>\n",
    "<li>agent.py</li>\n",
    "<li>randomdialog.py</li>\n",
    "<li>\\_\\_init__.py</li>\n",
    "</ul></li>\n",
    "</ul>\n",
    "\n",
    "<b>URGENT:</b> в работе ЗАПРЕЩАЕТСЯ использовать циклы:\n",
    "<ul>\n",
    "<li>Использование 1 for (или while): max 1 балл</li>\n",
    "<li>Использование до 4 for (или while): max 0.8 баллов</li>\n",
    "<li>Использование 4+ for (или while): max 0.5 баллов</li>\n",
    "</ul>"
   ]
  },
  {
   "cell_type": "markdown",
   "metadata": {},
   "source": [
    "### Файл agent.py\n",
    "\n",
    "Описание класса агента (один класс для всех агентов, в нашем случае для Трампа и Клинтон)."
   ]
  },
  {
   "cell_type": "code",
   "execution_count": 4,
   "metadata": {},
   "outputs": [],
   "source": [
    "from collections.abc import Generator\n",
    "from random import shuffle\n",
    "\n",
    "\n",
    "class Agent(Generator):\n",
    "\n",
    "    def __init__(self, kb, name):\n",
    "        # Инициализация\n",
    "        self._texts = kb['text']\n",
    "        self._name = name\n",
    "        self._create_random_queue()\n",
    "\n",
    "    def _create_random_queue(self):\n",
    "        queue = list(range(len(self._texts)))\n",
    "        shuffle(queue)\n",
    "        self._iter = iter(queue)\n",
    "\n",
    "    def __iter__(self):\n",
    "        return self\n",
    "\n",
    "    def __next__(self):\n",
    "        try:\n",
    "            return f'{self._name}: {self._texts[next(self._iter)]}'\n",
    "        except StopIteration:\n",
    "            self._create_random_queue()\n",
    "            return f'{self._name}: {self._texts[next(self._iter)]}'\n",
    "\n",
    "    def send(self, msg):\n",
    "        # Необходимо написать свой собственный метод send для генератора\n",
    "        return next(self)\n",
    "\n",
    "    def throw(self, typ=None, val=None, tb=None):\n",
    "        # Оставляем как есть\n",
    "        super().throw(typ, val, tb)\n",
    "\n",
    "    def close(self):\n",
    "        pass\n",
    "\n",
    "    def __str__(self):\n",
    "        # Опишем строковое представление класса\n",
    "        return f'This generator emulates behaviour of \"{self._name}\"'\n",
    "\n",
    "    def __repr__(self):\n",
    "        return str(self)\n"
   ]
  },
  {
   "cell_type": "markdown",
   "metadata": {},
   "source": [
    "#### Пример использования:"
   ]
  },
  {
   "cell_type": "code",
   "execution_count": 5,
   "metadata": {},
   "outputs": [
    {
     "data": {
      "text/plain": [
       "(This generator emulates behaviour of \"clinton\",\n",
       " This generator emulates behaviour of \"trump\")"
      ]
     },
     "execution_count": 5,
     "metadata": {},
     "output_type": "execute_result"
    }
   ],
   "source": [
    "from dialogsgenerator import Agent\n",
    "Agent(clinton, \"clinton\"), Agent(trump, \"trump\")"
   ]
  },
  {
   "cell_type": "markdown",
   "metadata": {},
   "source": [
    "### Файл randomdialog.py\n",
    "\n",
    "Описание класса, генерирующего случайный диалог."
   ]
  },
  {
   "cell_type": "code",
   "execution_count": 6,
   "metadata": {},
   "outputs": [],
   "source": [
    "import random\n",
    "import sys\n",
    "\n",
    "\n",
    "class RandomDialog(object):\n",
    "\n",
    "    def __init__(self, agents, max_len=5):\n",
    "        self._agents = agents\n",
    "        self._max_len = max_len\n",
    "\n",
    "    def generate(self):\n",
    "        \"\"\"\n",
    "        Генерирует случайный диалог состоящий из 1-max_len цепочек.\n",
    "        При генерации вызывает функцию turn.\n",
    "        Возвращаемый объект является генератором.\n",
    "        \"\"\"\n",
    "        chains_number = random.randrange(self._max_len) + 1\n",
    "        yield from map(lambda x: list(self.turn()), range(chains_number))\n",
    "\n",
    "    def turn(self):\n",
    "        \"\"\"\n",
    "        Генерирует одну случайную цепочку следующим образом: выбирается случайный агент.\n",
    "        Он \"говорит\" случайное сообщение (msg) из своей Agent.kb (используйте next или send(None)).\n",
    "        (правила того, как выбирать никак не регулируются, вы можете выбирать случайный твит из Agent.kb никак не учитывая\n",
    "        переданное msg).\n",
    "        Это сообщение передается с помощью send (помним, что агент - это объект-генератор).\n",
    "        Далее получаем ответ от всех агентов и возвращаем (генерируем) их (включая исходное сообщение).\n",
    "        Возвращаемый объект является генератором.\n",
    "        \"\"\"\n",
    "\n",
    "        speaker_num = random.randrange(len(self._agents))\n",
    "        speaker = self._agents[speaker_num]\n",
    "        other_agents = self._agents[:speaker_num] + \\\n",
    "                       self._agents[speaker_num + 1:]\n",
    "        random.shuffle(other_agents)\n",
    "\n",
    "        msg = next(speaker)\n",
    "        yield msg\n",
    "        yield from map(lambda agent: agent.send(msg), other_agents)\n",
    "\n",
    "    def eval(self, dialog=None):\n",
    "        \"\"\"\n",
    "        Превращает генератор случайного далога (который возвращается в self.generate())\n",
    "        в список списков (пример использования далее).\n",
    "        Возвращаемый объект является списком.\n",
    "        \"\"\"\n",
    "        if dialog is None:\n",
    "            dialog = self.generate()\n",
    "        return list(dialog)\n",
    "\n",
    "    @staticmethod\n",
    "    def dialog_to_str(dialog):\n",
    "        return '\\n'.join(map(lambda turn: f'turn {turn[0]}:\\n' + '\\n'.join(\n",
    "            map(lambda s: '\\t' + s, turn[1])), enumerate(dialog)))\n",
    "\n",
    "    def write(self, dialog=None, target=sys.stdout):\n",
    "        \"\"\"\n",
    "        Записывает результат self.eval() в соответствующий поток.\n",
    "        \"\"\"\n",
    "        if dialog is None:\n",
    "            dialog = self.eval()\n",
    "        print(self.dialog_to_str(dialog), file=target)\n"
   ]
  },
  {
   "cell_type": "markdown",
   "metadata": {},
   "source": [
    "#### Пример использования:"
   ]
  },
  {
   "cell_type": "code",
   "execution_count": 7,
   "metadata": {},
   "outputs": [],
   "source": [
    "from dialogsgenerator import RandomDialog\n",
    "rd = RandomDialog([Agent(clinton, \"clinton\"), Agent(trump, \"trump\")], max_len=2)"
   ]
  },
  {
   "cell_type": "code",
   "execution_count": 8,
   "metadata": {},
   "outputs": [
    {
     "data": {
      "text/plain": [
       "<generator object RandomDialog.generate at 0x7f2af22f6408>"
      ]
     },
     "execution_count": 8,
     "metadata": {},
     "output_type": "execute_result"
    }
   ],
   "source": [
    "generated = rd.generate()\n",
    "generated"
   ]
  },
  {
   "cell_type": "code",
   "execution_count": 9,
   "metadata": {},
   "outputs": [
    {
     "data": {
      "text/plain": [
       "[['trump: Thank you Eau Claire, Wisconsin. \\n#VoteTrump on Tuesday, April 5th!\\nMAKE AMERICA GREAT AGAIN! https://t.co/JI5JqwHnMC',\n",
       "  \"clinton: .@TomColicchio, thanks for your work on this issue. Your zip code shouldn't determine your ability to access healthy, affordable food.\"],\n",
       " ['clinton: \"The death of Alton Sterling is a tragedy, and my prayers are with his family.\" —Hillary https://t.co/Yky4ZxfbLN',\n",
       "  'trump: \"@SandraR677582: @FLTrumpTeam Florida starts early voting on March 5 extending to March 15. Absentee ballots have been sent out! #Trump2016\"']]"
      ]
     },
     "execution_count": 9,
     "metadata": {},
     "output_type": "execute_result"
    }
   ],
   "source": [
    "evaled = rd.eval(generated)\n",
    "evaled"
   ]
  },
  {
   "cell_type": "code",
   "execution_count": 10,
   "metadata": {},
   "outputs": [
    {
     "name": "stdout",
     "output_type": "stream",
     "text": [
      "turn 0:\n",
      "\ttrump: Thank you Eau Claire, Wisconsin. \n",
      "#VoteTrump on Tuesday, April 5th!\n",
      "MAKE AMERICA GREAT AGAIN! https://t.co/JI5JqwHnMC\n",
      "\tclinton: .@TomColicchio, thanks for your work on this issue. Your zip code shouldn't determine your ability to access healthy, affordable food.\n",
      "turn 1:\n",
      "\tclinton: \"The death of Alton Sterling is a tragedy, and my prayers are with his family.\" —Hillary https://t.co/Yky4ZxfbLN\n",
      "\ttrump: \"@SandraR677582: @FLTrumpTeam Florida starts early voting on March 5 extending to March 15. Absentee ballots have been sent out! #Trump2016\"\n"
     ]
    }
   ],
   "source": [
    "rd.write(evaled)"
   ]
  },
  {
   "cell_type": "markdown",
   "metadata": {},
   "source": [
    "### Файл run_generator.py\n",
    "\n",
    "Содержит функции для генерации и записи нескольких диалогов. Файл должен быть написан так, чтобы его можно было запускать через командную строку:\n",
    "<img src=\"cmd.png\">\n",
    "Описание аргументов представлено на рисунке:\n",
    "<img src=\"cmd_help.png\">\n",
    "Для разбора аргументов ипользуйте <a href=\"https://docs.python.org/3/howto/argparse.html\">модуль argparse</a>. Все представленные на рисунке аргументы должны быть обработаны (кроме help, он обрабатывается автоматически модулем argparse)."
   ]
  },
  {
   "cell_type": "code",
   "execution_count": null,
   "metadata": {},
   "outputs": [],
   "source": [
    "import argparse\n",
    "import sys\n",
    "\n",
    "import pandas as pd\n",
    "\n",
    "from dialogsgenerator import Agent\n",
    "from dialogsgenerator import RandomDialog\n",
    "\n",
    "\n",
    "def generate(rd, count_dialogs=5):\n",
    "    \"\"\"\n",
    "    Генерирует count_dialogs диалогов с помощью rd.generate().\n",
    "    Возвращаемый объект является генератором.\n",
    "    \"\"\"\n",
    "    yield from map(lambda i: rd.eval(), range(count_dialogs))\n",
    "\n",
    "\n",
    "def write(dialogs, target=sys.stdout):\n",
    "    \"\"\"\n",
    "    Записывает сгенерированные диалоги dialogs (это объект-генератор) в поток target.\n",
    "    \"\"\"\n",
    "    print(*map(lambda dialog: f'{f\"Dialog {dialog[0]}\":_^80}\\n' +\n",
    "                              RandomDialog.dialog_to_str(dialog[1]),\n",
    "               enumerate(dialogs)), sep='\\n', file=target)\n",
    "\n",
    "\n",
    "if __name__ == \"__main__\":\n",
    "    parser = argparse.ArgumentParser()\n",
    "    parser.add_argument('count_dialogs', type=int,\n",
    "                        help='Amount of dialogs to generate')\n",
    "    parser.add_argument('max_dialog_len', type=int,\n",
    "                        help='Maximum amount of turns in each dialog')\n",
    "    parser.add_argument('-o', '--output', help='output file')\n",
    "    parser.add_argument('-c', '--clinton_kb', help=\"Clinton's texts\")\n",
    "    parser.add_argument('-t', '--trump_kb', help=\"Trump's texts\")\n",
    "    args = parser.parse_args()\n",
    "\n",
    "    clinton_filename = args.clinton_kb\n",
    "    if clinton_filename is None:\n",
    "        clinton_filename = 'clinton.csv'\n",
    "    trump_filename = args.trump_kb\n",
    "    if trump_filename is None:\n",
    "        trump_filename = 'trump.csv'\n",
    "\n",
    "    if args.count_dialogs <= 0:\n",
    "        raise ValueError(\"'count_dialogs' must be positive\")\n",
    "    if args.max_dialog_len <= 0:\n",
    "        raise ValueError(\"'max_dialog_len' must be positive\")\n",
    "\n",
    "    clinton = pd.read_csv(clinton_filename)\n",
    "    trump = pd.read_csv(trump_filename)\n",
    "\n",
    "    rd = RandomDialog([Agent(clinton, 'clinton'), Agent(trump, 'trump')],\n",
    "                      args.max_dialog_len)\n",
    "\n",
    "    if args.output is None:\n",
    "        fout = sys.stdout\n",
    "    else:\n",
    "        fout = open(args.output, 'w')\n",
    "    with fout:\n",
    "        write(generate(rd, args.count_dialogs), fout)\n"
   ]
  },
  {
   "cell_type": "markdown",
   "metadata": {},
   "source": [
    "#### Пример использования функций из файла:"
   ]
  },
  {
   "cell_type": "code",
   "execution_count": 11,
   "metadata": {},
   "outputs": [],
   "source": [
    "import sys\n",
    "from run_generator import generate, write"
   ]
  },
  {
   "cell_type": "code",
   "execution_count": 12,
   "metadata": {},
   "outputs": [
    {
     "data": {
      "text/plain": [
       "<generator object generate at 0x7f2af22f6480>"
      ]
     },
     "execution_count": 12,
     "metadata": {},
     "output_type": "execute_result"
    }
   ],
   "source": [
    "dialogs = generate(rd, 2)\n",
    "dialogs"
   ]
  },
  {
   "cell_type": "code",
   "execution_count": 13,
   "metadata": {
    "scrolled": true
   },
   "outputs": [
    {
     "name": "stdout",
     "output_type": "stream",
     "text": [
      "____________________________________Dialog 0____________________________________\n",
      "turn 0:\n",
      "\tclinton: We all know Donald Trump says offensive things about women. Here's what he says about policies that benefit women.\n",
      "https://t.co/YMV0rvwFnf\n",
      "\ttrump: .@Morning_Joe  @mikebarnicle on @realDonaldTrump: He finished 2nd but he made the turn successfully like a pro\"\n",
      "turn 1:\n",
      "\tclinton: “Hillary Clinton has proven herself as a champion of the labor movement.\" https://t.co/STSP2CRgbp\n",
      "\ttrump: The media coverage this morning of the very average Clinton speech and Convention is a joke. @CNN and the little watched @Morning_Joe = SAD!\n",
      "____________________________________Dialog 1____________________________________\n",
      "turn 0:\n",
      "\tclinton: 45 years later, I couldn’t be happier to have you by my side. Happy birthday, Bill! -H https://t.co/KDhgLsNr7K\n",
      "\ttrump: On immigration, I’m consulting with our immigration officers\n",
      "&amp; our wage-earners. Hillary Clinton is consulting with Wall Street.\n",
      "turn 1:\n",
      "\tclinton: These California ESL students are using Hillary's 1995 speech in Beijing to learn English.\n",
      "https://t.co/5n6aJT9myq\n",
      "\ttrump: #MakeAmericaWorkAgain\n",
      "#TrumpPence16 #RNCinCLE \n",
      "https://t.co/xlB2C1cpKp https://t.co/5Kv03luMZW\n"
     ]
    }
   ],
   "source": [
    "write(dialogs, sys.stdout)"
   ]
  },
  {
   "cell_type": "code",
   "execution_count": null,
   "metadata": {},
   "outputs": [],
   "source": []
  }
 ],
 "metadata": {
  "kernelspec": {
   "display_name": "Python 3",
   "language": "python",
   "name": "python3"
  },
  "language_info": {
   "codemirror_mode": {
    "name": "ipython",
    "version": 3
   },
   "file_extension": ".py",
   "mimetype": "text/x-python",
   "name": "python",
   "nbconvert_exporter": "python",
   "pygments_lexer": "ipython3",
   "version": "3.7.0"
  }
 },
 "nbformat": 4,
 "nbformat_minor": 2
}
